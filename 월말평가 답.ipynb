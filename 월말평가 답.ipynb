{
 "cells": [
  {
   "cell_type": "code",
   "execution_count": 3,
   "metadata": {},
   "outputs": [],
   "source": [
    "class Point:\n",
    "    def __init__(self, x, y):\n",
    "        self.x = x\n",
    "        self.y = y\n",
    "        \n",
    "class Rectangle:\n",
    "    def __init__(self, p1, p2):\n",
    "        self.p1 = p1\n",
    "        self.p2 = p2\n",
    "        \n",
    "    def get_area(self):\n",
    "        return abs(self.p1.x - self.p2.x) * abs(self.p1.y - self.p2.y)\n",
    "    \n",
    "    def get_perimeter(self):\n",
    "        return abs(self.p1.x - self.p2.x)*2 + abs(self.p1.y - self.p2.y)\n",
    "    \n",
    "    def is_square(self):\n",
    "        return abx(self.p1.x - self.p2.x) == abs(self.p1.y - self.p2.y)"
   ]
  },
  {
   "cell_type": "code",
   "execution_count": 5,
   "metadata": {},
   "outputs": [],
   "source": [
    "# 4번"
   ]
  },
  {
   "cell_type": "code",
   "execution_count": null,
   "metadata": {},
   "outputs": [],
   "source": [
    "class Word:\n",
    "    def __init__(self):\n",
    "        self.wordbook = {}\n",
    "        \n",
    "    def add(self, eng, kor):\n",
    "        self.wordbook[eng] = kor\n",
    "        \n",
    "    def delete(self, eng):\n",
    "        if eng in self.wordbook:\n",
    "            self.wordbook.pop(eng)\n",
    "            return True\n",
    "        else:\n",
    "            return False\n",
    "        \n",
    "    def print(self):\n",
    "        for eng, kor in slef.wordbook.items():\n",
    "            print(f'{eng}: {kor}')"
   ]
  },
  {
   "cell_type": "code",
   "execution_count": null,
   "metadata": {},
   "outputs": [],
   "source": [
    "# 3번"
   ]
  },
  {
   "cell_type": "code",
   "execution_count": null,
   "metadata": {},
   "outputs": [],
   "source": [
    "# 반복되는 문자열에서 동일한 문자가 등장해도 연속되지 않으면 다시 COUNT해야한다.\n",
    "def summary(word):\n",
    "    result = []\n",
    "    tmp_list = [] # 잠시 거쳐가는 곳\n",
    "    # 1-1 단어에서 문자를 하나씩 꺼낸다.\n",
    "    for char in word:\n",
    "        # 1-2 tmp_list 가 빈리스트가 아니고 + tmp_list의 마지막 값과 char...\n",
    "        # 마지막 요소가 char와 같지 않는다는 것은(True) 동일한 문자가 아닌 다른문자...\n",
    "        # 임시리스트의 마지막 요소를 결과 리스트에 추가하고 그 길이도 추가한다.\n",
    "        if tmp_list and tmp_list[-1] != char:\n",
    "            # 임시리스트의 마지막 값을 추가\n",
    "            result.append(tmp_list[-1])\n",
    "            # 임시 리스트의 길이를 추가\n",
    "            result.append(f'{len(tmp_list)}')\n",
    "            # 임시리스트를 비워준다.\n",
    "            tmp_list.clear()\n",
    "        # 새로운 글자를 계속 tmp_list에 넣는다.\n",
    "        # for 문 안에 있으니 for 문이 끝날 때까지 반복한다.\n",
    "        tmp_list.append(char)\n",
    "    # 마지막 요소는 for문이 다 끝나 버리니 tmp_list[-1] != = char조건에서\n",
    "    # 비교할 char 가 없기 때문에 if 문이 아예 동작하지 않게된다.\n",
    "    # 그래서 마지막으로 append 를 해줘야 한다.\n",
    "    result.append(tmp_list[-1])\n",
    "    result.append(f'{len(tmp_list)}')\n",
    "    \n",
    "    return ''.join(result)\n",
    "            "
   ]
  },
  {
   "cell_type": "code",
   "execution_count": null,
   "metadata": {},
   "outputs": [],
   "source": [
    "# 2번"
   ]
  },
  {
   "cell_type": "code",
   "execution_count": null,
   "metadata": {},
   "outputs": [],
   "source": [
    "def alphabet_count(word):\n",
    "    # 일반적인 풀이\n",
    "    result = {}\n",
    "    for char in word:\n",
    "        if result.get(char):\n",
    "            result[char] += 1\n",
    "        else:\n",
    "            result[char] = 1\n",
    "    return result\n",
    "    # 딕셔너리 컴프리헨션\n",
    "    return {char: word.count(char) for char in word}"
   ]
  },
  {
   "cell_type": "code",
   "execution_count": null,
   "metadata": {},
   "outputs": [],
   "source": [
    "# 1번"
   ]
  },
  {
   "cell_type": "code",
   "execution_count": null,
   "metadata": {},
   "outputs": [],
   "source": [
    "def can_divide(numbers, divisor):\n",
    "    # 일반적인 풀아\n",
    "    result = []\n",
    "    \n",
    "    for number in numbers:\n",
    "        if number % divisor == 0:\n",
    "            result.append(number)\n",
    "        if result == []:\n",
    "            resault.append(-1)\n",
    "        \n",
    "        return sorted(result)\n",
    "    # 리스트 컴프리헨션\n",
    "    result = [nunber for number in numbers if not number % divisor]\n",
    "    result = sorted(result) if result else [-1]\n",
    "    return result"
   ]
  },
  {
   "cell_type": "code",
   "execution_count": null,
   "metadata": {},
   "outputs": [],
   "source": []
  },
  {
   "cell_type": "code",
   "execution_count": null,
   "metadata": {},
   "outputs": [],
   "source": []
  },
  {
   "cell_type": "code",
   "execution_count": null,
   "metadata": {},
   "outputs": [],
   "source": []
  },
  {
   "cell_type": "code",
   "execution_count": null,
   "metadata": {},
   "outputs": [],
   "source": []
  },
  {
   "cell_type": "code",
   "execution_count": null,
   "metadata": {},
   "outputs": [],
   "source": []
  },
  {
   "cell_type": "code",
   "execution_count": null,
   "metadata": {},
   "outputs": [],
   "source": []
  },
  {
   "cell_type": "code",
   "execution_count": null,
   "metadata": {},
   "outputs": [],
   "source": []
  },
  {
   "cell_type": "code",
   "execution_count": null,
   "metadata": {},
   "outputs": [],
   "source": []
  }
 ],
 "metadata": {
  "kernelspec": {
   "display_name": "Python 3",
   "language": "python",
   "name": "python3"
  },
  "language_info": {
   "codemirror_mode": {
    "name": "ipython",
    "version": 3
   },
   "file_extension": ".py",
   "mimetype": "text/x-python",
   "name": "python",
   "nbconvert_exporter": "python",
   "pygments_lexer": "ipython3",
   "version": "3.7.3"
  },
  "toc": {
   "base_numbering": 1,
   "nav_menu": {},
   "number_sections": true,
   "sideBar": true,
   "skip_h1_title": false,
   "title_cell": "Table of Contents",
   "title_sidebar": "Contents",
   "toc_cell": false,
   "toc_position": {},
   "toc_section_display": true,
   "toc_window_display": false
  }
 },
 "nbformat": 4,
 "nbformat_minor": 2
}
